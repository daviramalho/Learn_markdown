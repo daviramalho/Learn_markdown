{
 "cells": [
  {
   "cell_type": "markdown",
   "metadata": {},
   "source": [
    "This is a Tutorial do exercise the Markdown structure:\n",
    "============================================\n",
    "\n",
    "# LaTex equations #\n",
    "(Courtesy of MathJax)\n",
    "Inline expressions can be added by surrounding the latex code with \"$\"\n",
    "\n",
    "$e^{i\\pi} + 1 = 0$\n",
    "\n",
    "Expressions on their own line are surrounded by \"$$\"\n",
    "\n",
    "$$e^x=\\sum_{i=0}^\\infty \\frac{1}{i!}x^i$$\n",
    "\n",
    "The quadratic formula is $-b \\pm \\sqrt{b^2 - 4ac} \\over 2a$\n",
    "\n",
    "The quadratic formula is $$-b \\pm \\sqrt{b^2 - 4ac} \\over 2a$$\n",
    "\n",
    "# Markdown basics\n",
    "\n",
    "*This is italic*\n",
    "**This is bold**\n",
    "\\*And This to use literal symbols\\*\n",
    "\n",
    "# The Heading Levels can be used like This for level 1 #\n",
    "# This for level 2 #\n",
    "## This for level 2.1 ##\n",
    "## And this for level 2.2 ##\n",
    "\n",
    "You can use a table like this:\n",
    "\n",
    "| This | is   |\n",
    "|------|------|\n",
    "|   a  | table|\n",
    "\n",
    "Local files can be found if you have them in your Notebook directory, directly refered to them like this:\n",
    "\n",
    "[subdirectory/] <Test.txt> *Didn't work*\n",
    "\n",
    "And a logo inside an image folder:\n",
    "\n",
    "<img src=\"python_logo.svg\" />\n",
    "\n",
    "And a video either:\n",
    "\n",
    "<video controls src=\"animation.m4v\" />\n",
    "\n"
   ]
  },
  {
   "cell_type": "markdown",
   "metadata": {},
   "source": [
    "Markdown: Syntax\n",
    "================\n",
    "\n",
    "<ul id=\"ProjectSubmenu\">\n",
    "    <li><a href=\"/projects/markdown/\" title=\"Markdown Project Page\">Main</a></li>\n",
    "    <li><a href=\"/projects/markdown/basics\" title=\"Markdown Basics\">Basics</a></li>\n",
    "    <li><a class=\"selected\" title=\"Markdown Syntax Documentation\">Syntax</a></li>\n",
    "    <li><a href=\"/projects/markdown/license\" title=\"Pricing and License Information\">License</a></li>\n",
    "    <li><a href=\"/projects/markdown/dingus\" title=\"Online Markdown Web Form\">Dingus</a></li>\n",
    "</ul>\n",
    "\n",
    "* [Overview](#overview)\n",
    "    * [Philosophy](#philosophy)\n",
    "    * [Inline HTML](#html)\n",
    "    * [Automatic Escaping for Special Characters](#autoescape)\n",
    "* [Block Elements](#block)\n",
    "* [Span Elements](#span)\n",
    "* [Miscellaneous](#misc)\n",
    "\n",
    "**Note:** This document is itself written using Markdown; you can [see the source for it by adding '.text' to the URL][src].\n",
    "\n",
    " [src]: syntax.text\n",
    "* * *"
   ]
  },
  {
   "cell_type": "markdown",
   "metadata": {},
   "source": [
    "Markdown: Basics\n",
    "===============\n",
    "\n",
    "<ul id=\"ProjectSubmenu\">\n",
    "    <li><a href=\"/projects/markdown/\" title=\"Markdown Project Page\">Main</a></li>\n",
    "    <li><a class=\"selected\" title=\"Markdown Basics\">Basics</a></li>\n",
    "    <li><a href=\"/projects/markdown/syntax\" title=\"Markdown Syntax Documentation\">Syntax</a></li>\n",
    "    <li><a href=\"/projects/markdown/license\" title=\"Pricing and License Information\">License</a></li>\n",
    "    <li><a href=\"/projects/markdown/dingus\" title=\"Online Markdown Web Form\">Dingus</a></li>\n",
    "</ul>\n",
    "\n",
    "Getting the Gist of Markdown's Formatting Syntax\n",
    "-----------------------------------------------------------------------\n",
    "**Note:** This document is itself written using Markdown; you can [see the source for it by adding '.text' to the URL][src].\n",
    "\n",
    " [src]: basics.text"
   ]
  },
  {
   "cell_type": "code",
   "execution_count": null,
   "metadata": {},
   "outputs": [],
   "source": []
  }
 ],
 "metadata": {
  "kernelspec": {
   "display_name": "Python 3",
   "language": "python",
   "name": "python3"
  },
  "language_info": {
   "codemirror_mode": {
    "name": "ipython",
    "version": 3
   },
   "file_extension": ".py",
   "mimetype": "text/x-python",
   "name": "python",
   "nbconvert_exporter": "python",
   "pygments_lexer": "ipython3",
   "version": "3.7.3"
  },
  "widgets": {
   "application/vnd.jupyter.widget-state+json": {
    "state": {},
    "version_major": 2,
    "version_minor": 0
   }
  }
 },
 "nbformat": 4,
 "nbformat_minor": 2
}
